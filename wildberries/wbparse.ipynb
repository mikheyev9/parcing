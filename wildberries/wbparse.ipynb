{
 "cells": [
  {
   "cell_type": "code",
   "execution_count": 45,
   "metadata": {},
   "outputs": [],
   "source": [
    "import requests\n",
    "from bs4 import BeautifulSoup\n",
    "import re\n",
    "import csv\n",
    "import  modelswb"
   ]
  },
  {
   "cell_type": "code",
   "execution_count": 50,
   "metadata": {},
   "outputs": [],
   "source": [
    "class Parse:\n",
    "    def __init__(self, url:str):\n",
    "        self.brand_id = self.__get_id_brand(url)\n",
    "    \n",
    "    @staticmethod\n",
    "    def __get_id_brand(url:str):\n",
    "        brand_id = re.search(r'(?:\\?brandpage=)(.+?)(?:__)', url).group(1)\n",
    "        return brand_id\n",
    "    \n",
    "    def request_(self):\n",
    "        self.__create_csv()\n",
    "        page = 1\n",
    "        while True:\n",
    "            headers = {\n",
    "                'Accept': '*/*',\n",
    "                'Accept-Language': 'en-US,en;q=0.9,ru;q=0.8',\n",
    "                'Connection': 'keep-alive',\n",
    "                'DNT': '1',\n",
    "                'Origin': 'https://www.wildberries.by',\n",
    "                'Referer': 'https://www.wildberries.by/',\n",
    "                'Sec-Fetch-Dest': 'empty',\n",
    "                'Sec-Fetch-Mode': 'cors',\n",
    "                'Sec-Fetch-Site': 'cross-site',\n",
    "                'User-Agent': 'Mozilla/5.0 (X11; Linux x86_64) AppleWebKit/537.36 (KHTML, like Gecko) Chrome/114.0.0.0 Safari/537.36',\n",
    "                'sec-ch-ua': '\"Not.A/Brand\";v=\"8\", \"Chromium\";v=\"114\", \"Google Chrome\";v=\"114\"',\n",
    "                'sec-ch-ua-mobile': '?0',\n",
    "                'sec-ch-ua-platform': '\"Linux\"',\n",
    "                }\n",
    "            response = requests.get(\n",
    "                f'https://catalog.wb.ru/brands/m/catalog?brand={self.brand_id}&limit=100&sort=popular&page={page}&appType=128&curr=byn&locale=by&lang=ru&dest=-59208&regions=1,4,22,30,31,33,40,48,66,68,69,70,80,83,114&reg=1&spp=0',\n",
    "                headers=headers)\n",
    "            page += 1\n",
    "            box = modelswb.Main_box.parse_obj(response.json()['data'])\n",
    "            if not box.products:\n",
    "                break\n",
    "            self.__save_scv(box)\n",
    "        \n",
    "    def __create_csv(self):\n",
    "        with open('parsing_file.csv', 'w', newline='') as file:\n",
    "            writer = csv.writer(file)\n",
    "            writer.writerow(['id', 'name', 'price', 'brand', 'sales_count', 'raiting', 'have_now'])\n",
    "    \n",
    "    def __save_scv(self, items):\n",
    "        with open('parsing_file.csv', 'a', newline='') as file:\n",
    "            writer = csv.writer(file)\n",
    "            for i in items.products:\n",
    "                writer.writerow([i.id,\n",
    "                                 i.name,\n",
    "                                 i.salePriceU,\n",
    "                                 i.brand,\n",
    "                                 i.sale,\n",
    "                                 i.rating,\n",
    "                                 i.volume\n",
    "                                 ])"
   ]
  },
  {
   "cell_type": "code",
   "execution_count": 51,
   "metadata": {},
   "outputs": [
    {
     "name": "stdout",
     "output_type": "stream",
     "text": [
      "27445\n",
      "None\n"
     ]
    }
   ],
   "source": [
    "x = Parse('https://www.wildberries.by/catalog?brandpage=27445__MSI')\n",
    "print(x.brand_id)\n",
    "print(x.request_())"
   ]
  }
 ],
 "metadata": {
  "kernelspec": {
   "display_name": "train",
   "language": "python",
   "name": "python3"
  },
  "language_info": {
   "codemirror_mode": {
    "name": "ipython",
    "version": 3
   },
   "file_extension": ".py",
   "mimetype": "text/x-python",
   "name": "python",
   "nbconvert_exporter": "python",
   "pygments_lexer": "ipython3",
   "version": "3.11.2"
  },
  "orig_nbformat": 4
 },
 "nbformat": 4,
 "nbformat_minor": 2
}
